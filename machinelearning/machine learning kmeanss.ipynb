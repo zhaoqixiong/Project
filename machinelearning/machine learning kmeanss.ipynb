{
 "cells": [
  {
   "cell_type": "code",
   "execution_count": 36,
   "metadata": {},
   "outputs": [],
   "source": [
    "import tensorflow as tf\n",
    "from sklearn.tree import DecisionTreeClassifier\n",
    "import numpy as np\n",
    "import pandas as pd\n",
    "from sklearn.metrics import accuracy_score\n",
    "from sklearn.metrics import classification_report\n",
    "from sklearn.tree import export_graphviz\n",
    "import pydotplus \n",
    "from sklearn.metrics import confusion_matrix\n",
    "import matplotlib.pyplot as plt\n",
    "from sklearn.cluster import KMeans"
   ]
  },
  {
   "cell_type": "code",
   "execution_count": 66,
   "metadata": {},
   "outputs": [],
   "source": [
    "iperf1 = pd.read_csv('/Users/xiongzhaoqi/Cambridge/Project/traces1000/iperf.csv')\n",
    "iperf = iperf1.values.tolist()\n",
    "memcached1 = pd.read_csv('/Users/xiongzhaoqi/Cambridge/Project/traces1000/memcached.csv')\n",
    "memcached = memcached1.values.tolist()\n",
    "ping1 = pd.read_csv('/Users/xiongzhaoqi/Cambridge/Project/traces1000/ping.csv')\n",
    "ping = ping1.values.tolist()\n",
    "sparkglm1 = pd.read_csv('/Users/xiongzhaoqi/Cambridge/Project/traces1000/sparkglm.csv')\n",
    "sparkglm = sparkglm1.values.tolist()\n",
    "sparkkmeans1 = pd.read_csv('/Users/xiongzhaoqi/Cambridge/Project/traces1000/sparkkmeans.csv')\n",
    "sparkkmeans = sparkkmeans1.values.tolist()\n",
    "X = iperf + memcached + ping + sparkglm + sparkkmeans\n",
    "#X = memcached + ping \n",
    "Y = 1000*[0] + 1000*[2]  + 1000*[3] + 1000*[1] + 1000* [4]"
   ]
  },
  {
   "cell_type": "code",
   "execution_count": 77,
   "metadata": {},
   "outputs": [],
   "source": [
    "X = np.array(X)\n",
    "Y = np.array(Y)"
   ]
  },
  {
   "cell_type": "code",
   "execution_count": 78,
   "metadata": {},
   "outputs": [],
   "source": [
    "kmeans = KMeans(n_clusters=5, random_state= 9).fit(X)\n",
    "y_pred = kmeans.predict(X)"
   ]
  },
  {
   "cell_type": "code",
   "execution_count": 79,
   "metadata": {},
   "outputs": [
    {
     "name": "stdout",
     "output_type": "stream",
     "text": [
      "              precision    recall  f1-score   support\n",
      "\n",
      "           0       0.50      1.00      0.67      1000\n",
      "           1       0.88      0.95      0.91      1000\n",
      "           2       0.90      0.51      0.65      1000\n",
      "           3       0.00      0.00      0.00      1000\n",
      "           4       1.00      0.81      0.90      1000\n",
      "\n",
      "   micro avg       0.65      0.65      0.65      5000\n",
      "   macro avg       0.66      0.65      0.62      5000\n",
      "weighted avg       0.66      0.65      0.62      5000\n",
      "\n",
      "0.653\n"
     ]
    }
   ],
   "source": [
    "print(classification_report(Y ,y_pred))\n",
    "print(accuracy_score(Y ,y_pred))"
   ]
  },
  {
   "cell_type": "code",
   "execution_count": 80,
   "metadata": {},
   "outputs": [
    {
     "name": "stdout",
     "output_type": "stream",
     "text": [
      "[2 3 2 2 2 2 2 2 2 2 2 2 2 2 2 3 3 3 3 3 3 3 3 2 2 2 2 2 3 3 2 2 2 2 3 2 2\n",
      " 3 2 3 2 2 2 2 3 2 3 2 3 3 3 3 2 3 3 2 2 2 2 2 2 2 2 2 3 3 3 2 2 2 2 2 2 2\n",
      " 2 2 3 2 2 2 2 3 3 3 3 3 2 3 2 2 3 2 2 2 3 2 2 2 2 2 2 3 2 3 2 3 2 2 3 2 3\n",
      " 2 3 3 2 2 3 2 3 3 2 3 3 3 2 2 3 3 2 2 3 2 2 2 2 3 2 2 2 3 3 2 3 2 3 2 3 3\n",
      " 3 3 3 2 3 2 2 3 3 2 3 3 2 3 3 3 3 3 3 3 3 3 3 3 3 3 3 3 3 2 3 3 3 3 3 2 3\n",
      " 2 2 3 3 3 2 3 3 3 3 3 3 2 2 2 2 3 2 3 2 3 2 3 3 2 3 3 2 3 3 3 3 2 2 2 2 2\n",
      " 2 2 2 3 3 2 2 2 2 2 2 2 2 2 2 2 2 2 2 3 3 3 3 3 3 2 2 3 2 2 2 2 3 2 2 2 2\n",
      " 3 2 2 2 2 3 2 2 2 2 2 2 3 3 3 3 3 3 3 2 3 3 3 3 2 2 3 2 2 2 2 2 2 2 3 2 2\n",
      " 3 2 3 2 2 3 2 3 3 3 3 3 3 3 3 3 3 3 3 2 2 3 3 3 2 3 2 2 3 2 3 3 3 3 2 3 3\n",
      " 3 3 3 3 3 3 3 3 3 3 3 3 2 3 3 2 3 2 2 3 2 2 2 2 2 2 2 2 2 2 3 2 2 3 3 3 3\n",
      " 2 2 3 2 3 3 3 3 3 3 2 3 3 3 3 2 2 2 2 3 2 2 2 2 3 2 2 3 2 3 3 2 2 2 2 2 2\n",
      " 2 3 3 3 3 3 3 2 2 2 2 2 2 2 2 2 2 2 2 2 2 2 3 3 2 2 3 2 2 3 2 2 2 3 2 2 3\n",
      " 2 3 2 3 3 3 2 3 3 3 2 3 2 3 3 3 3 3 2 2 2 2 3 3 3 3 3 3 3 3 3 3 2 3 2 2 2\n",
      " 3 3 3 3 3 3 3 2 2 3 3 3 2 2 2 2 2 2 2 3 2 2 3 3 2 2 3 2 3 2 3 3 3 2 3 3 3\n",
      " 3 3 3 3 3 3 3 3 3 3 2 3 2 2 2 2 2 2 2 2 3 3 3 3 3 3 3 3 2 2 3 2 3 3 3 2 2\n",
      " 2 2 2 2 2 3 2 3 3 3 3 2 3 2 2 3 2 3 3 3 3 3 2 2 2 3 3 2 2 2 2 3 2 2 2 3 2\n",
      " 2 3 3 3 2 2 2 2 3 2 2 2 2 2 2 2 2 2 2 3 3 3 2 3 3 3 3 3 3 2 2 2 2 2 3 2 2\n",
      " 3 3 3 2 2 2 2 3 3 3 2 3 2 2 2 3 3 2 2 3 2 2 3 2 2 3 2 3 3 2 2 2 2 2 2 2 2\n",
      " 3 3 3 3 3 3 3 3 3 3 2 3 2 3 2 2 3 3 3 3 3 3 3 3 3 3 2 3 2 3 2 3 3 3 2 2 2\n",
      " 2 2 3 2 2 3 3 3 3 3 3 2 2 3 3 2 2 2 3 3 3 2 3 3 3 2 2 2 3 3 3 3 3 2 2 2 3\n",
      " 3 2 2 2 2 2 2 2 2 2 3 3 2 3 3 3 3 3 2 3 2 3 2 3 2 3 3 3 3 2 2 2 3 3 2 2 2\n",
      " 2 2 2 2 2 2 2 2 3 3 3 2 2 2 3 3 3 3 3 2 2 2 2 3 3 3 3 3 3 3 2 2 2 2 3 2 3\n",
      " 2 3 3 2 2 3 3 3 3 3 3 3 3 3 2 2 2 2 2 2 2 2 2 2 2 2 2 2 3 3 3 3 3 3 3 3 3\n",
      " 3 3 2 3 3 3 3 2 2 2 2 2 2 3 2 3 3 3 2 3 3 3 3 3 3 3 3 3 3 2 3 3 3 2 3 3 3\n",
      " 2 2 2 2 3 2 2 2 3 3 2 3 2 3 3 3 2 2 3 3 2 3 2 2 2 2 2 2 2 2 2 2 2 3 3 3 3\n",
      " 3 2 3 2 3 3 3 3 2 2 2 2 2 2 2 2 2 2 2 2 2 3 2 2 2 3 3 3 2 3 2 2 2 3 2 2 2\n",
      " 2 2 3 3 3 3 2 2 3 2 2 3 3 3 3 3 3 3 3 3 3 2 2 3 2 2 2 2 2 2 3 2 2 3 3 3 2\n",
      " 2]\n"
     ]
    }
   ],
   "source": [
    "print(y_pred[1000:2000])"
   ]
  },
  {
   "cell_type": "code",
   "execution_count": 81,
   "metadata": {},
   "outputs": [
    {
     "data": {
      "image/png": "[encoded data removed]",
      "text/plain": [
       "<Figure size 288x288 with 2 Axes>"
      ]
     },
     "metadata": {
      "needs_background": "light"
     },
     "output_type": "display_data"
    }
   ],
   "source": [
    "cm = confusion_matrix(Y ,y_pred)\n",
    "plt.matshow(cm,cmap=plt.cm.Greens)\n",
    "plt.colorbar()\n",
    "for x in range(5):\n",
    "    for y in range(5):\n",
    "        plt.annotate(cm[y,x],xy=(x,y),horizontalalignment='center',verticalalignment='center')\n",
    "plt.ylabel('True label')\n",
    "plt.xlabel('Predicted label')\n",
    "plt.show()"
   ]
  },
  {
   "cell_type": "code",
   "execution_count": 76,
   "metadata": {},
   "outputs": [
    {
     "name": "stdout",
     "output_type": "stream",
     "text": [
      "[[ 2500.5         2500.5       ]\n",
      " [37233.86827458 37209.34508349]\n",
      " [39498.29432624 10280.33865248]\n",
      " [10267.02197802 39496.06959707]\n",
      " [48485.35714286 48310.84236453]]\n"
     ]
    }
   ],
   "source": [
    "print(kmeans.cluster_centers_)"
   ]
  },
  {
   "cell_type": "code",
   "execution_count": null,
   "metadata": {},
   "outputs": [],
   "source": []
  }
 ],
 "metadata": {
  "kernelspec": {
   "display_name": "Python 3",
   "language": "python",
   "name": "python3"
  },
  "language_info": {
   "codemirror_mode": {
    "name": "ipython",
    "version": 3
   },
   "file_extension": ".py",
   "mimetype": "text/x-python",
   "name": "python",
   "nbconvert_exporter": "python",
   "pygments_lexer": "ipython3",
   "version": "3.7.2"
  }
 },
 "nbformat": 4,
 "nbformat_minor": 2
}
