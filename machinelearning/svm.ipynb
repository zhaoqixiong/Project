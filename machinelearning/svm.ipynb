{
 "cells": [
  {
   "cell_type": "code",
   "execution_count": 1,
   "metadata": {},
   "outputs": [],
   "source": [
    "from sklearn.svm import SVC\n",
    "from sklearn.svm import LinearSVC\n",
    "from sklearn.naive_bayes import GaussianNB\n",
    "\n",
    "import numpy as np\n",
    "import pandas as pd\n",
    "from sklearn.metrics import accuracy_score\n",
    "from sklearn.metrics import classification_report\n",
    "from sklearn.tree import export_graphviz\n",
    "import pydotplus \n",
    "from sklearn.metrics import confusion_matrix\n",
    "import matplotlib.pyplot as plt\n",
    "from sklearn import linear_model "
   ]
  },
  {
   "cell_type": "code",
   "execution_count": 62,
   "metadata": {},
   "outputs": [],
   "source": [
    "iperf1 = pd.read_csv('/Users/xiongzhaoqi/Cambridge/Project/traces1000/iperf.csv')\n",
    "iperf1 = iperf1.drop('protocl',axis=1)\n",
    "iperf = iperf1.values.tolist()\n",
    "memcached1 = pd.read_csv('/Users/xiongzhaoqi/Cambridge/Project/traces1000/memcached.csv')\n",
    "memcached1 = memcached1.drop('protocl',axis=1)\n",
    "memcached = memcached1.values.tolist()\n",
    "# ping1 = pd.read_csv('/Users/xiongzhaoqi/Cambridge/Project/traces1000/ping.csv')\n",
    "# ping = ping1.values.tolist()\n",
    "# sparkglm1 = pd.read_csv('/Users/xiongzhaoqi/Cambridge/Project/traces1000/sparkglm.csv')\n",
    "# sparkglm = sparkglm1.values.tolist()\n",
    "# sparkkmeans1 = pd.read_csv('/Users/xiongzhaoqi/Cambridge/Project/traces1000/sparkkmeans.csv')\n",
    "# sparkkmeans = sparkkmeans1.values.tolist()\n",
    "X = iperf+ memcached # + ping + sparkglm + sparkkmeans\n",
    "#X = memcached + ping \n",
    "Y = 1000*[0] + 1000*[1]  #+ 1000*[2] + 1000*[3] + 1000* [4]"
   ]
  },
  {
   "cell_type": "code",
   "execution_count": 63,
   "metadata": {},
   "outputs": [],
   "source": [
    "X = np.array(X)\n",
    "Y = np.array(Y)"
   ]
  },
  {
   "cell_type": "code",
   "execution_count": 64,
   "metadata": {},
   "outputs": [
    {
     "name": "stdout",
     "output_type": "stream",
     "text": [
      "[[ 5001  5001]\n",
      " [ 5001  5001]\n",
      " [ 5001  5001]\n",
      " ...\n",
      " [11211 38508]\n",
      " [38412 11211]\n",
      " [38600 11211]]\n"
     ]
    }
   ],
   "source": [
    "print(X)"
   ]
  },
  {
   "cell_type": "code",
   "execution_count": 65,
   "metadata": {},
   "outputs": [],
   "source": [
    "indices = np.random.permutation(len(X))"
   ]
  },
  {
   "cell_type": "code",
   "execution_count": 66,
   "metadata": {},
   "outputs": [
    {
     "name": "stdout",
     "output_type": "stream",
     "text": [
      "[ 754 1432  135 ...  202 1190  957]\n"
     ]
    }
   ],
   "source": [
    "print(indices)"
   ]
  },
  {
   "cell_type": "code",
   "execution_count": 67,
   "metadata": {},
   "outputs": [],
   "source": [
    "Training_X = X[indices[:-200]] \n",
    "Training_Y = Y[indices[:-200]]\n",
    "Testing_X = X[indices[-200:]]\n",
    "Testing_Y = Y[indices[-200:]]"
   ]
  },
  {
   "cell_type": "code",
   "execution_count": 68,
   "metadata": {},
   "outputs": [
    {
     "data": {
      "text/plain": [
       "SVC(C=1.0, cache_size=200, class_weight=None, coef0=0.0,\n",
       "  decision_function_shape='ovr', degree=3, gamma='auto_deprecated',\n",
       "  kernel='linear', max_iter=-1, probability=False, random_state=None,\n",
       "  shrinking=True, tol=0.001, verbose=False)"
      ]
     },
     "execution_count": 68,
     "metadata": {},
     "output_type": "execute_result"
    }
   ],
   "source": [
    "clf = SVC(kernel = 'linear')\n",
    "clf.fit(Training_X, Training_Y ) \n"
   ]
  },
  {
   "cell_type": "code",
   "execution_count": 69,
   "metadata": {},
   "outputs": [
    {
     "name": "stdout",
     "output_type": "stream",
     "text": [
      "1.0\n"
     ]
    }
   ],
   "source": [
    "Train = clf.predict(Training_X )\n",
    "print(accuracy_score(Training_Y, Train))\n"
   ]
  },
  {
   "cell_type": "code",
   "execution_count": 70,
   "metadata": {},
   "outputs": [
    {
     "name": "stdout",
     "output_type": "stream",
     "text": [
      "              precision    recall  f1-score   support\n",
      "\n",
      "           0       1.00      1.00      1.00       109\n",
      "           1       1.00      1.00      1.00        91\n",
      "\n",
      "   micro avg       1.00      1.00      1.00       200\n",
      "   macro avg       1.00      1.00      1.00       200\n",
      "weighted avg       1.00      1.00      1.00       200\n",
      "\n",
      "1.0\n"
     ]
    }
   ],
   "source": [
    "# Predict_Y = clf.predict(Testing_X)\n",
    "Predict_Y = clf.predict(Testing_X)\n",
    "print(classification_report(Testing_Y, Predict_Y))\n",
    "print(accuracy_score(Testing_Y, Predict_Y))"
   ]
  },
  {
   "cell_type": "code",
   "execution_count": 71,
   "metadata": {},
   "outputs": [
    {
     "name": "stdout",
     "output_type": "stream",
     "text": [
      "[[5.05068736e-05 5.05359258e-05]]\n",
      "[-1.5055782]\n"
     ]
    }
   ],
   "source": [
    "print(clf.coef_)\n",
    "print(clf.intercept_)\n"
   ]
  },
  {
   "cell_type": "code",
   "execution_count": null,
   "metadata": {},
   "outputs": [],
   "source": []
  }
 ],
 "metadata": {
  "kernelspec": {
   "display_name": "Python 3",
   "language": "python",
   "name": "python3"
  },
  "language_info": {
   "codemirror_mode": {
    "name": "ipython",
    "version": 3
   },
   "file_extension": ".py",
   "mimetype": "text/x-python",
   "name": "python",
   "nbconvert_exporter": "python",
   "pygments_lexer": "ipython3",
   "version": "3.7.2"
  }
 },
 "nbformat": 4,
 "nbformat_minor": 2
}
