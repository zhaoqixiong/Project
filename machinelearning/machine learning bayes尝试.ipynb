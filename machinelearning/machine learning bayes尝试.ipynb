{
 "cells": [
  {
   "cell_type": "code",
   "execution_count": 1,
   "metadata": {},
   "outputs": [],
   "source": [
    "from sklearn.svm import SVC\n",
    "from sklearn.svm import LinearSVC\n",
    "from sklearn.naive_bayes import GaussianNB\n",
    "import math\n",
    "import numpy as np\n",
    "import pandas as pd\n",
    "from sklearn.metrics import accuracy_score\n",
    "from sklearn.metrics import classification_report\n",
    "from sklearn.tree import export_graphviz\n",
    "import pydotplus \n",
    "from sklearn.metrics import confusion_matrix\n",
    "import matplotlib.pyplot as plt\n",
    "from sklearn import linear_model "
   ]
  },
  {
   "cell_type": "code",
   "execution_count": 2,
   "metadata": {},
   "outputs": [],
   "source": [
    "iperf1 = pd.read_csv('/Users/xiongzhaoqi/Cambridge/Project/traces1000/iperf.csv')\n",
    "iperf = iperf1.values.tolist()\n",
    "memcached1 = pd.read_csv('/Users/xiongzhaoqi/Cambridge/Project/traces1000/memcached.csv')\n",
    "memcached = memcached1.values.tolist()\n",
    "ping1 = pd.read_csv('/Users/xiongzhaoqi/Cambridge/Project/traces1000/ping.csv')\n",
    "ping = ping1.values.tolist()\n",
    "sparkglm1 = pd.read_csv('/Users/xiongzhaoqi/Cambridge/Project/traces1000/sparkglm.csv')\n",
    "sparkglm = sparkglm1.values.tolist()\n",
    "sparkkmeans1 = pd.read_csv('/Users/xiongzhaoqi/Cambridge/Project/traces1000/sparkkmeans.csv')\n",
    "sparkkmeans = sparkkmeans1.values.tolist()\n",
    "X = iperf + memcached + ping + sparkglm + sparkkmeans\n",
    "#X = memcached + ping \n",
    "Y = 1000*[0] + 1000*[1]  + 1000*[2] + 1000*[3] + 1000* [4]"
   ]
  },
  {
   "cell_type": "code",
   "execution_count": 3,
   "metadata": {},
   "outputs": [],
   "source": [
    "X = np.array(X)\n",
    "Y = np.array(Y)"
   ]
  },
  {
   "cell_type": "code",
   "execution_count": 4,
   "metadata": {},
   "outputs": [],
   "source": [
    "indices = np.random.permutation(len(X))"
   ]
  },
  {
   "cell_type": "code",
   "execution_count": 5,
   "metadata": {},
   "outputs": [
    {
     "name": "stdout",
     "output_type": "stream",
     "text": [
      "[ 669 3441  111 ...  480 2565 4186]\n"
     ]
    }
   ],
   "source": [
    "print(indices)"
   ]
  },
  {
   "cell_type": "code",
   "execution_count": 6,
   "metadata": {},
   "outputs": [],
   "source": [
    "Training_X = X[indices[:-400]] \n",
    "Training_Y = Y[indices[:-400]]\n",
    "Testing_X = X[indices[-400:]]\n",
    "Testing_Y = Y[indices[-400:]]"
   ]
  },
  {
   "cell_type": "code",
   "execution_count": 7,
   "metadata": {},
   "outputs": [],
   "source": [
    "train_len = len(Training_X)"
   ]
  },
  {
   "cell_type": "code",
   "execution_count": 8,
   "metadata": {},
   "outputs": [],
   "source": [
    "Training_0 =[]\n",
    "Training_1 =[]\n",
    "Training_2 =[]\n",
    "Training_3 =[]\n",
    "Training_4 =[]\n",
    "for i,cate in enumerate(Training_Y):\n",
    "    if  cate ==0:\n",
    "        Training_0.append(Training_X[i])\n",
    "    elif  cate ==1:\n",
    "        Training_1.append(Training_X[i])\n",
    "    elif  cate ==2:\n",
    "        Training_2.append(Training_X[i])\n",
    "    elif  cate ==3:\n",
    "        Training_3.append(Training_X[i])\n",
    "    else:\n",
    "        Training_4.append(Training_X[i])\n",
    "\n",
    "Training_0 = np.array(Training_0)\n",
    "Training_1 = np.array(Training_1)\n",
    "Training_2 = np.array(Training_2)\n",
    "Training_3 = np.array(Training_3)\n",
    "Training_4 = np.array(Training_4)\n"
   ]
  },
  {
   "cell_type": "code",
   "execution_count": 9,
   "metadata": {},
   "outputs": [],
   "source": [
    "p_0 = len(Training_0)/train_len\n",
    "p_1 = len(Training_1)/train_len\n",
    "p_2 = len(Training_2)/train_len\n",
    "p_3 = len(Training_3)/train_len\n",
    "p_4 = len(Training_4)/train_len"
   ]
  },
  {
   "cell_type": "code",
   "execution_count": 10,
   "metadata": {},
   "outputs": [],
   "source": [
    "\n",
    "aver_feature1_0 = np.array(Training_0[:,0]).mean()\n",
    "var_feature1_0 = np.array(Training_0[:,0]).var()+0.001\n",
    "aver_feature2_0 = np.array(Training_0[:,1]).mean()\n",
    "var_feature2_0 = np.array(Training_0[:,1]).var()+0.001\n",
    "aver_feature3_0 = np.array(Training_0[:,2]).mean()+0.001\n",
    "var_feature3_0 = np.array(Training_0[:,2]).var()"
   ]
  },
  {
   "cell_type": "code",
   "execution_count": 11,
   "metadata": {},
   "outputs": [
    {
     "name": "stdout",
     "output_type": "stream",
     "text": [
      "6.0 0.001\n",
      "5001.0 0.001\n",
      "5001.001 0.0\n"
     ]
    }
   ],
   "source": [
    "print(aver_feature1_0,var_feature1_0)\n",
    "print(aver_feature2_0,var_feature2_0)\n",
    "print(aver_feature3_0,var_feature3_0)"
   ]
  },
  {
   "cell_type": "code",
   "execution_count": 12,
   "metadata": {},
   "outputs": [],
   "source": [
    "def para_class0(X):\n",
    "    f1 =  X[0]\n",
    "    f2 =  X[1]\n",
    "    f3 =  X[2]\n",
    "    p1 = 1/np.sqrt(2*np.pi*var_feature1_0)* np.exp(-(f1-aver_feature1_0)**2/(2*var_feature1_0))\n",
    "    p2 = 1/np.sqrt(2*np.pi*var_feature2_0)* np.exp(-(f2-aver_feature2_0)**2/(2*var_feature2_0))\n",
    "    p3 = 1/np.sqrt(2*np.pi*var_feature3_0)* np.exp(-(f3-aver_feature3_0)**2/(2*var_feature3_0))\n",
    "    if math.isnan(p1):\n",
    "        p1 = 1\n",
    "    if math.isnan(p2):\n",
    "        p2 = 1\n",
    "    if math.isnan(p3):\n",
    "        p3 = 1\n",
    "    pro = p1*p2*p3*p_0 \n",
    "    print('class0:p1,p2,p3,p',p1,p2,p3,p_0)\n",
    "    print(pro)\n",
    "    return pro"
   ]
  },
  {
   "cell_type": "code",
   "execution_count": 13,
   "metadata": {},
   "outputs": [],
   "source": [
    "def para_class1(X):\n",
    "    f1 =  X[0]\n",
    "    f2 =  X[1]\n",
    "    f3 =  X[2]\n",
    "    p1 = 1/np.sqrt(2*np.pi*var_feature1_1)* np.exp(-(f1-aver_feature1_1)**2/(2*var_feature1_1))\n",
    "    p2 = 1/np.sqrt(2*np.pi*var_feature2_1)* np.exp(-(f2-aver_feature2_1)**2/(2*var_feature2_1))\n",
    "    p3 = 1/np.sqrt(2*np.pi*var_feature3_1)* np.exp(-(f3-aver_feature3_1)**2/(2*var_feature3_1))\n",
    "    if math.isnan(p1):\n",
    "        p1 = 1\n",
    "    if math.isnan(p2):\n",
    "        p2 = 1\n",
    "    if math.isnan(p3):\n",
    "        p3 = 1\n",
    "    pro = p1*p2*p3*p_1 \n",
    "    print('class1:p1,p2,p3,p',p1,p2,p3,p_1)\n",
    "    print(pro)\n",
    "    return pro"
   ]
  },
  {
   "cell_type": "code",
   "execution_count": 14,
   "metadata": {},
   "outputs": [],
   "source": [
    "def para_class2(X):\n",
    "    f1 =  X[0]\n",
    "    f2 =  X[1]\n",
    "    f3 =  X[2]\n",
    "    p1 = 1/np.sqrt(2*np.pi*var_feature1_2)* np.exp(-(f1-aver_feature1_2)**2/(2*var_feature1_2))\n",
    "    p2 = 1/np.sqrt(2*np.pi*var_feature2_2)* np.exp(-(f2-aver_feature2_2)**2/(2*var_feature2_2))\n",
    "    p3 = 1/np.sqrt(2*np.pi*var_feature3_2)* np.exp(-(f3-aver_feature3_2)**2/(2*var_feature3_2))\n",
    "    if math.isnan(p1):\n",
    "        p1 = 1\n",
    "    if math.isnan(p2):\n",
    "        p2 = 1\n",
    "    if math.isnan(p3):\n",
    "        p3 = 1\n",
    "    pro = p1*p2*p3*p_2\n",
    "    print('class2:p1,p2,p3,p',p1,p2,p3,p_2)\n",
    "    print(pro)\n",
    "    return pro"
   ]
  },
  {
   "cell_type": "code",
   "execution_count": 15,
   "metadata": {},
   "outputs": [],
   "source": [
    "def para_class3(X):\n",
    "    f1 =  X[0]\n",
    "    f2 =  X[1]\n",
    "    f3 =  X[2]\n",
    "    p1 = 1/np.sqrt(2*np.pi*var_feature1_3)* np.exp(-(f1-aver_feature1_3)**2/(2*var_feature1_3))\n",
    "    p2 = 1/np.sqrt(2*np.pi*var_feature2_3)* np.exp(-(f2-aver_feature2_3)**2/(2*var_feature2_3))\n",
    "    p3 = 1/np.sqrt(2*np.pi*var_feature3_3)* np.exp(-(f3-aver_feature3_3)**2/(2*var_feature3_3))\n",
    "    if math.isnan(p1):\n",
    "        p1 = 1\n",
    "    if math.isnan(p2):\n",
    "        p2 = 1\n",
    "    if math.isnan(p3):\n",
    "        p3 = 1    \n",
    "    pro = p1*p2*p3*p_3\n",
    "    print('class3:p1,p2,p3,p',p1,p2,p3,p_3)\n",
    "    print(pro)\n",
    "    return pro"
   ]
  },
  {
   "cell_type": "code",
   "execution_count": 16,
   "metadata": {},
   "outputs": [],
   "source": [
    "def para_class4(X):\n",
    "    f1 =  X[0]\n",
    "    f2 =  X[1]\n",
    "    f3 =  X[2]\n",
    "    p1 = 1/np.sqrt(2*np.pi*var_feature1_4)* np.exp(-(f1-aver_feature1_4)**2/(2*var_feature1_4))\n",
    "    p2 = 1/np.sqrt(2*np.pi*var_feature2_4)* np.exp(-(f2-aver_feature2_4)**2/(2*var_feature2_4))\n",
    "    p3 = 1/np.sqrt(2*np.pi*var_feature3_4)* np.exp(-(f3-aver_feature3_4)**2/(2*var_feature3_4))\n",
    "    if math.isnan(p1):\n",
    "        p1 = 1\n",
    "    if math.isnan(p2):\n",
    "        p2 = 1\n",
    "    if math.isnan(p3):\n",
    "        p3 = 1   \n",
    "    pro = p1*p2*p3*p_4\n",
    "    print('class4:p1,p2,p3,p',p1,p2,p3,p_4)\n",
    "    print(pro)\n",
    "    return pro"
   ]
  },
  {
   "cell_type": "code",
   "execution_count": 17,
   "metadata": {},
   "outputs": [],
   "source": [
    "aver_feature1_1 = np.array(Training_1[:,0]).mean()\n",
    "var_feature1_1 = np.array(Training_1[:,0]).var()+0.001\n",
    "aver_feature2_1 = np.array(Training_1[:,1]).mean()\n",
    "var_feature2_1 = np.array(Training_1[:,1]).var()+0.001\n",
    "aver_feature3_1 = np.array(Training_1[:,2]).mean()\n",
    "var_feature3_1 = np.array(Training_1[:,2]).var()"
   ]
  },
  {
   "cell_type": "code",
   "execution_count": 18,
   "metadata": {},
   "outputs": [
    {
     "name": "stdout",
     "output_type": "stream",
     "text": [
      "6.0 0.001\n",
      "24977.151251360174 186644473.36114806\n",
      "24768.323177366703 186625200.23396772\n"
     ]
    }
   ],
   "source": [
    "print(aver_feature1_1,var_feature1_1)\n",
    "print(aver_feature2_1,var_feature2_1)\n",
    "print(aver_feature3_1,var_feature3_1)"
   ]
  },
  {
   "cell_type": "code",
   "execution_count": 19,
   "metadata": {},
   "outputs": [],
   "source": [
    "aver_feature1_2 = np.array(Training_2[:,0]).mean()\n",
    "var_feature1_2 = np.array(Training_2[:,0]).var()+0.001\n",
    "aver_feature2_2 = np.array(Training_2[:,1]).mean()\n",
    "var_feature2_2 = np.array(Training_2[:,1]).var()+0.001\n",
    "aver_feature3_2 = np.array(Training_2[:,2]).mean()\n",
    "var_feature3_2 = np.array(Training_2[:,2]).var()+0.001"
   ]
  },
  {
   "cell_type": "code",
   "execution_count": 20,
   "metadata": {},
   "outputs": [
    {
     "name": "stdout",
     "output_type": "stream",
     "text": [
      "1.0 0.001\n",
      "0.0 0.001\n",
      "0.0 0.001\n"
     ]
    }
   ],
   "source": [
    "print(aver_feature1_2,var_feature1_2)\n",
    "print(aver_feature2_2,var_feature2_2)\n",
    "print(aver_feature3_2,var_feature3_2)"
   ]
  },
  {
   "cell_type": "code",
   "execution_count": 21,
   "metadata": {},
   "outputs": [],
   "source": [
    "aver_feature1_3 = np.array(Training_3[:,0]).mean()\n",
    "var_feature1_3 = np.array(Training_3[:,0]).var()+0.001\n",
    "aver_feature2_3 = np.array(Training_3[:,1]).mean()\n",
    "var_feature2_3 = np.array(Training_3[:,1]).var()+0.001\n",
    "aver_feature3_3 = np.array(Training_3[:,2]).mean()\n",
    "var_feature3_3 = np.array(Training_3[:,2]).var()+0.001"
   ]
  },
  {
   "cell_type": "code",
   "execution_count": 22,
   "metadata": {},
   "outputs": [
    {
     "name": "stdout",
     "output_type": "stream",
     "text": [
      "6.0 0.001\n",
      "36357.93722943723 46891132.73948411\n",
      "36243.357142857145 50542820.21327582\n"
     ]
    }
   ],
   "source": [
    "print(aver_feature1_3,var_feature1_3)\n",
    "print(aver_feature2_3,var_feature2_3)\n",
    "print(aver_feature3_3,var_feature3_3)"
   ]
  },
  {
   "cell_type": "code",
   "execution_count": 23,
   "metadata": {},
   "outputs": [],
   "source": [
    "aver_feature1_4 = np.array(Training_4[:,0]).mean()\n",
    "var_feature1_4 = np.array(Training_4[:,0]).var()+0.001\n",
    "aver_feature2_4 = np.array(Training_4[:,1]).mean()\n",
    "var_feature2_4 = np.array(Training_4[:,1]).var()+0.001\n",
    "aver_feature3_4= np.array(Training_4[:,2]).mean()\n",
    "var_feature3_4= np.array(Training_4[:,2]).var()+0.001"
   ]
  },
  {
   "cell_type": "code",
   "execution_count": 24,
   "metadata": {},
   "outputs": [
    {
     "name": "stdout",
     "output_type": "stream",
     "text": [
      "6.0 0.001\n",
      "45951.99890470975 79855096.5519298\n",
      "45613.61007667032 79504644.11840118\n"
     ]
    }
   ],
   "source": [
    "print(aver_feature1_4,var_feature1_4)\n",
    "print(aver_feature2_4,var_feature2_4)\n",
    "print(aver_feature3_4,var_feature3_4)"
   ]
  },
  {
   "cell_type": "code",
   "execution_count": 25,
   "metadata": {},
   "outputs": [],
   "source": [
    "def predict(Testing_X):\n",
    "    Predict_Y = []\n",
    "    for item in Testing_X:\n",
    "        prob = []\n",
    "        prob.append(para_class0(item))\n",
    "        prob.append(para_class1(item))\n",
    "        prob.append(para_class2(item))\n",
    "        prob.append(para_class3(item))\n",
    "        prob.append(para_class4(item))\n",
    "        classification = prob.index(max(prob))\n",
    "#         print(prob)\n",
    "        Predict_Y.append(classification)\n",
    "    return Predict_Y"
   ]
  },
  {
   "cell_type": "code",
   "execution_count": 37,
   "metadata": {
    "scrolled": true
   },
   "outputs": [
    {
     "name": "stdout",
     "output_type": "stream",
     "text": [
      "class0:p1,p2,p3,p 12.6156626101008 0.0 1 0.2006521739130435\n",
      "0.0\n",
      "class1:p1,p2,p3,p 12.6156626101008 1.8232430549523416e-05 2.2282199926118068e-05 0.19978260869565218\n",
      "1.0239302653247888e-09\n",
      "class2:p1,p2,p3,p 0.0 0.0 0.0 0.20021739130434782\n",
      "0.0\n",
      "class3:p1,p2,p3,p 12.6156626101008 5.610655897774205e-05 5.4995513982888265e-05 0.2008695652173913\n",
      "7.819250108817824e-09\n",
      "class4:p1,p2,p3,p 12.6156626101008 3.075422269240963e-05 2.1492232414593464e-05 0.19847826086956522\n",
      "1.6550430496932844e-09\n",
      "[3]\n"
     ]
    },
    {
     "name": "stderr",
     "output_type": "stream",
     "text": [
      "/usr/local/lib/python3.7/site-packages/ipykernel_launcher.py:7: RuntimeWarning: divide by zero encountered in double_scalars\n",
      "  import sys\n",
      "/usr/local/lib/python3.7/site-packages/ipykernel_launcher.py:7: RuntimeWarning: invalid value encountered in double_scalars\n",
      "  import sys\n"
     ]
    }
   ],
   "source": [
    "Predict_Y = predict(Testing_X[98:99])\n",
    "print(Predict_Y)\n",
    "# print(classification_report(Testing_Y[4:5], Predict_Y))\n",
    "# print(accuracy_score(Testing_Y[1:2], Predict_Y))"
   ]
  },
  {
   "cell_type": "code",
   "execution_count": null,
   "metadata": {},
   "outputs": [],
   "source": []
  }
 ],
 "metadata": {
  "kernelspec": {
   "display_name": "Python 3",
   "language": "python",
   "name": "python3"
  },
  "language_info": {
   "codemirror_mode": {
    "name": "ipython",
    "version": 3
   },
   "file_extension": ".py",
   "mimetype": "text/x-python",
   "name": "python",
   "nbconvert_exporter": "python",
   "pygments_lexer": "ipython3",
   "version": "3.7.2"
  }
 },
 "nbformat": 4,
 "nbformat_minor": 2
}
