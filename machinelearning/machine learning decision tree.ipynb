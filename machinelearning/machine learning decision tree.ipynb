{
 "cells": [
  {
   "cell_type": "code",
   "execution_count": 1,
   "metadata": {},
   "outputs": [],
   "source": [
    "import tensorflow as tf\n",
    "from sklearn.tree import DecisionTreeClassifier\n",
    "import numpy as np\n",
    "import pandas as pd\n",
    "from sklearn.metrics import accuracy_score\n",
    "from sklearn.metrics import classification_report\n",
    "from sklearn.tree import export_graphviz\n",
    "import pydotplus \n",
    "from sklearn.metrics import confusion_matrix\n",
    "import matplotlib.pyplot as plt"
   ]
  },
  {
   "cell_type": "code",
   "execution_count": 2,
   "metadata": {},
   "outputs": [],
   "source": [
    "iperf1 = pd.read_csv('/Users/xiongzhaoqi/Cambridge/Project/traces1000/iperf.csv')\n",
    "iperf = iperf1.values.tolist()\n",
    "memcached1 = pd.read_csv('/Users/xiongzhaoqi/Cambridge/Project/traces1000/memcached.csv')\n",
    "memcached = memcached1.values.tolist()\n",
    "ping1 = pd.read_csv('/Users/xiongzhaoqi/Cambridge/Project/traces1000/ping.csv')\n",
    "ping = ping1.values.tolist()\n",
    "sparkglm1 = pd.read_csv('/Users/xiongzhaoqi/Cambridge/Project/traces1000/sparkglm.csv')\n",
    "sparkglm = sparkglm1.values.tolist()\n",
    "sparkkmeans1 = pd.read_csv('/Users/xiongzhaoqi/Cambridge/Project/traces1000/sparkkmeans.csv')\n",
    "sparkkmeans = sparkkmeans1.values.tolist()\n",
    "X = iperf + memcached + ping + sparkglm + sparkkmeans\n",
    "#X = memcached + ping \n",
    "Y = 1000*[0] + 1000*[1]  + 1000*[2] + 1000*[3] + 1000* [4]"
   ]
  },
  {
   "cell_type": "code",
   "execution_count": 3,
   "metadata": {},
   "outputs": [],
   "source": [
    "X = np.array(X)\n",
    "Y = np.array(Y)"
   ]
  },
  {
   "cell_type": "code",
   "execution_count": 4,
   "metadata": {},
   "outputs": [
    {
     "name": "stdout",
     "output_type": "stream",
     "text": [
      "5000\n"
     ]
    }
   ],
   "source": [
    "print(len(X))"
   ]
  },
  {
   "cell_type": "code",
   "execution_count": 5,
   "metadata": {},
   "outputs": [],
   "source": [
    "indices = np.random.permutation(len(X))"
   ]
  },
  {
   "cell_type": "code",
   "execution_count": 6,
   "metadata": {},
   "outputs": [
    {
     "name": "stdout",
     "output_type": "stream",
     "text": [
      "[1990 1884 4875 ... 3862 3473 2197]\n"
     ]
    }
   ],
   "source": [
    "print(indices)"
   ]
  },
  {
   "cell_type": "code",
   "execution_count": 7,
   "metadata": {},
   "outputs": [],
   "source": [
    "Training_X = X[indices[:-400]] \n",
    "Training_Y = Y[indices[:-400]]\n",
    "Testing_X = X[indices[-400:]]\n",
    "Testing_Y = Y[indices[-400:]]"
   ]
  },
  {
   "cell_type": "code",
   "execution_count": 8,
   "metadata": {},
   "outputs": [
    {
     "data": {
      "text/plain": [
       "DecisionTreeClassifier(class_weight=None, criterion='gini', max_depth=5,\n",
       "            max_features=None, max_leaf_nodes=None,\n",
       "            min_impurity_decrease=0.0, min_impurity_split=None,\n",
       "            min_samples_leaf=1, min_samples_split=2,\n",
       "            min_weight_fraction_leaf=0.0, presort=False, random_state=None,\n",
       "            splitter='best')"
      ]
     },
     "execution_count": 8,
     "metadata": {},
     "output_type": "execute_result"
    }
   ],
   "source": [
    "dt = DecisionTreeClassifier(max_depth = 5)\n",
    "dt.fit(Training_X, Training_Y)\n",
    "# dt.fit(X,Y)"
   ]
  },
  {
   "cell_type": "code",
   "execution_count": 9,
   "metadata": {},
   "outputs": [
    {
     "name": "stdout",
     "output_type": "stream",
     "text": [
      "0.9704347826086956\n"
     ]
    }
   ],
   "source": [
    "Train = dt.predict(Training_X )\n",
    "print(accuracy_score(Training_Y, Train))"
   ]
  },
  {
   "cell_type": "code",
   "execution_count": 10,
   "metadata": {},
   "outputs": [
    {
     "name": "stdout",
     "output_type": "stream",
     "text": [
      "              precision    recall  f1-score   support\n",
      "\n",
      "           0       1.00      1.00      1.00        92\n",
      "           1       0.96      1.00      0.98        78\n",
      "           2       1.00      1.00      1.00        60\n",
      "           3       0.83      0.99      0.90        86\n",
      "           4       1.00      0.77      0.87        84\n",
      "\n",
      "   micro avg       0.95      0.95      0.95       400\n",
      "   macro avg       0.96      0.95      0.95       400\n",
      "weighted avg       0.96      0.95      0.95       400\n",
      "\n",
      "0.95\n"
     ]
    }
   ],
   "source": [
    "Predict_Y = dt.predict(Testing_X)\n",
    "print(classification_report(Testing_Y, Predict_Y))\n",
    "print(accuracy_score(Testing_Y, Predict_Y))"
   ]
  },
  {
   "cell_type": "code",
   "execution_count": 11,
   "metadata": {},
   "outputs": [],
   "source": [
    "# cm = confusion_matrix(Testing_Y, Predict_Y)\n",
    "# plt.matshow(cm,cmap=plt.cm.Greens)\n",
    "# plt.colorbar()\n",
    "# for x in range(5):\n",
    "#     for y in range(5):\n",
    "#         plt.annotate(cm[y,x],xy=(x,y),horizontalalignment='center',verticalalignment='center')\n",
    "# plt.ylabel('True label')\n",
    "# plt.xlabel('Predicted label')\n",
    "# plt.show()"
   ]
  },
  {
   "cell_type": "code",
   "execution_count": 12,
   "metadata": {},
   "outputs": [
    {
     "data": {
      "text/plain": [
       "True"
      ]
     },
     "execution_count": 12,
     "metadata": {},
     "output_type": "execute_result"
    }
   ],
   "source": [
    "dot_data = export_graphviz(dt, out_file=None,\n",
    "                                feature_names=['proto','src','dst'],  \n",
    "                                class_names=['iperf','memcached','ping','sparkglm','sparkkmeans']) \n",
    "graph = pydotplus.graph_from_dot_data(dot_data) \n",
    "graph.write_pdf(\"/Users/xiongzhaoqi/Cambridge/Project/machinelearning/tree.pdf\")"
   ]
  },
  {
   "cell_type": "code",
   "execution_count": 13,
   "metadata": {},
   "outputs": [],
   "source": [
    "feature_names=['proto','src','dst']\n",
    "# feature_names= ['iperf','memcached','ping','sparkglm','sparkkmeans']\n",
    "class_names=['iperf','memcached','ping','sparkglm','sparkkmeans']\n",
    "\n",
    "def get_lineage(tree, feature_names,file):\n",
    "     proto = []\n",
    "     src = []\n",
    "     dst = []\n",
    "     left      = tree.tree_.children_left\n",
    "     right     = tree.tree_.children_right\n",
    "     threshold = tree.tree_.threshold\n",
    "     features  = [feature_names[i] for i in tree.tree_.feature]\n",
    "     value = tree.tree_.value\n",
    "     le='<='               \n",
    "     g ='>'\n",
    "     # get ids of child nodes\n",
    "     idx = np.argwhere(left == -1)[:,0]     \n",
    "\n",
    "     def recurse(left, right, child, lineage=None):          \n",
    "          if lineage is None:\n",
    "               lineage = [child]\n",
    "          if child in left:\n",
    "               parent = np.where(left == child)[0].item()\n",
    "               split = 'l'\n",
    "          else:\n",
    "               parent = np.where(right == child)[0].item()\n",
    "               split = 'r'\n",
    "          \n",
    "          lineage.append((parent, split, threshold[parent], features[parent]))\n",
    "          if parent == 0:\n",
    "               lineage.reverse()\n",
    "               return lineage\n",
    "          else:\n",
    "               return recurse(left, right, parent, lineage)\n",
    "     \n",
    "     for j,child in enumerate(idx):\n",
    "        clause=' when '\n",
    "        \n",
    "        for node in recurse(left, right, child):\n",
    "            if len(str(node))<3:\n",
    "                continue\n",
    "            i = node\n",
    "            \n",
    "            if i[1]=='l':  sign=le \n",
    "            else: sign=g\n",
    "            clause=clause+i[3]+sign+str(i[2])+' and '\n",
    "        \n",
    "        a = list(value[node][0])\n",
    "        ind = a.index(max(a)) \n",
    "        clause= clause[:-4]+' then '+ str(ind)\n",
    "        file.write(clause)\n",
    "        file.write(\";\\n\")\n",
    "        "
   ]
  },
  {
   "cell_type": "code",
   "execution_count": 14,
   "metadata": {},
   "outputs": [],
   "source": [
    "threshold = dt.tree_.threshold\n",
    "features  = [feature_names[i] for i in dt.tree_.feature]"
   ]
  },
  {
   "cell_type": "code",
   "execution_count": 15,
   "metadata": {},
   "outputs": [
    {
     "name": "stdout",
     "output_type": "stream",
     "text": [
      "[ 1.10000e+01 -2.00000e+00  6.03900e+03  2.51150e+03  4.99300e+04\n",
      " -2.00000e+00 -2.00000e+00 -2.00000e+00  4.31745e+04  2.21575e+04\n",
      "  4.07400e+04 -2.00000e+00 -2.00000e+00  2.21575e+04 -2.00000e+00\n",
      " -2.00000e+00 -2.00000e+00]\n",
      "['src', 'src', 'dst', 'dst', 'src', 'src', 'src', 'src', 'src', 'dst', 'src', 'src', 'src', 'src', 'src', 'src', 'src']\n"
     ]
    }
   ],
   "source": [
    "print(threshold)\n",
    "print(features )"
   ]
  },
  {
   "cell_type": "code",
   "execution_count": 16,
   "metadata": {},
   "outputs": [],
   "source": [
    "proto =[]\n",
    "src =[]\n",
    "dst =[]\n",
    "for i,fe in enumerate(features):\n",
    "    \n",
    "    if fe == 'proto':\n",
    "        proto.append(threshold[i])\n",
    "    elif fe== 'src':\n",
    "        if threshold[i] != -2.0:\n",
    "            src.append(threshold[i])\n",
    "    else:\n",
    "        dst.append(threshold[i])\n",
    "      "
   ]
  },
  {
   "cell_type": "code",
   "execution_count": 17,
   "metadata": {},
   "outputs": [],
   "source": [
    "proto = [int(i) for i in proto]\n",
    "src = [int(i) for i in src]\n",
    "dst = [int(i) for i in dst]\n",
    "proto.sort()\n",
    "src.sort()\n",
    "dst.sort()\n"
   ]
  },
  {
   "cell_type": "code",
   "execution_count": 18,
   "metadata": {
    "scrolled": true
   },
   "outputs": [],
   "source": [
    "tree = open(\"/Users/xiongzhaoqi/Cambridge/Project/machinelearning/tree.txt\",\"w+\")\n",
    "tree.write(\"proto = \")\n",
    "tree.write(str(proto))\n",
    "tree.write(\";\\n\")\n",
    "tree.write(\"src = \")\n",
    "tree.write(str(src))\n",
    "tree.write(\";\\n\")\n",
    "tree.write(\"dst = \")\n",
    "tree.write(str(dst))\n",
    "tree.write(\";\\n\")\n",
    "get_lineage(dt,feature_names,tree)\n"
   ]
  },
  {
   "cell_type": "code",
   "execution_count": null,
   "metadata": {},
   "outputs": [],
   "source": []
  }
 ],
 "metadata": {
  "kernelspec": {
   "display_name": "Python 3",
   "language": "python",
   "name": "python3"
  },
  "language_info": {
   "codemirror_mode": {
    "name": "ipython",
    "version": 3
   },
   "file_extension": ".py",
   "mimetype": "text/x-python",
   "name": "python",
   "nbconvert_exporter": "python",
   "pygments_lexer": "ipython3",
   "version": "3.7.2"
  }
 },
 "nbformat": 4,
 "nbformat_minor": 2
}
