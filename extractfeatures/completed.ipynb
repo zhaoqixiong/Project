{
 "cells": [
  {
   "cell_type": "code",
   "execution_count": 2,
   "metadata": {},
   "outputs": [],
   "source": [
    "from scapy.all import * \n",
    "from scapy.layers.dns import DNS, DNSQR \n",
    "import numpy as np\n",
    "import pandas as pd"
   ]
  },
  {
   "cell_type": "markdown",
   "metadata": {},
   "source": [
    "# iperf"
   ]
  },
  {
   "cell_type": "code",
   "execution_count": 6,
   "metadata": {},
   "outputs": [
    {
     "name": "stdout",
     "output_type": "stream",
     "text": [
      "[[   6    6    6 ...    6    6    6]\n",
      " [5001 5001 5001 ... 5001 5001 5001]\n",
      " [5001 5001 5001 ... 5001 5001 5001]\n",
      " [  74   74   66 ...   66   66   66]\n",
      " [   0    0    0 ...    0    0    0]]\n"
     ]
    }
   ],
   "source": [
    "results = []\n",
    "#iperf（client and server）\n",
    "all_packets = rdpcap('/Users/xiongzhaoqi/traces/iperf/server.cap') \n",
    "for packet in all_packets:\n",
    "    proto = packet.proto\n",
    "    size =  len(packet)\n",
    "    checksum = packet.chksum\n",
    "    try:\n",
    "        sport = packet.sport\n",
    "        dport = packet.dport\n",
    "    except AttributeError:\n",
    "        sport = 0f\n",
    "        dport = 0\n",
    "#     metric = [proto,sport,dport,size,checksum]\n",
    "    difference = abs(sport - dport)\n",
    "    metric = [proto,sport,dport,size,difference]\n",
    "    results.append(metric)\n",
    "results = (np.array(results)).T\n",
    "print(results[0:20])"
   ]
  },
  {
   "cell_type": "code",
   "execution_count": 7,
   "metadata": {},
   "outputs": [],
   "source": [
    "# dataframe = pd.DataFrame({'protocl':results[0],'src':results[1],'dst':results[2],'size':results[3],'checksum':results[4]})\n",
    "dataframe = pd.DataFrame({'protocl':results[0],'src':results[1],'dst':results[2],'size':results[3],'difference':results[4]})"
   ]
  },
  {
   "cell_type": "code",
   "execution_count": 8,
   "metadata": {},
   "outputs": [],
   "source": [
    "# columns = ['protocl','src','dst','size','checksum']\n",
    "columns = ['protocl','src','dst','size','difference']\n",
    "dataframe.to_csv(\"/Users/xiongzhaoqi/Cambridge/Project/tracesall/iperf/server.csv\",index=False,sep=',',columns = columns)"
   ]
  },
  {
   "cell_type": "markdown",
   "metadata": {},
   "source": [
    "# Memcached"
   ]
  },
  {
   "cell_type": "code",
   "execution_count": null,
   "metadata": {},
   "outputs": [],
   "source": [
    "results = []\n",
    "# memcached (expt1 ,2,3)\n",
    "all_packets = rdpcap('/Users/xiongzhaoqi/traces/memcached/expt-1.cap') \n",
    "for packet in all_packets:\n",
    "    proto = packet.proto\n",
    "    size =  len(packet)\n",
    "    checksum = packet.chksum\n",
    "    try:\n",
    "        sport = packet.sport\n",
    "        dport = packet.dport\n",
    "    except AttributeError:\n",
    "        sport = 0\n",
    "        dport = 0\n",
    "    difference = abs(sport - dport)\n",
    "    metric = [proto,sport,dport,size,difference]\n",
    "    results.append(metric)\n",
    "results = (np.array(results)).T\n",
    "print(results[0:20])"
   ]
  },
  {
   "cell_type": "code",
   "execution_count": 7,
   "metadata": {},
   "outputs": [],
   "source": [
    "dataframe = pd.DataFrame({'protocl':results[0],'src':results[1],'dst':results[2],'size':results[3],'difference':results[4]})\n",
    "columns = ['protocl','src','dst','size','difference']\n",
    "# columns = ['protocl','src','dst','size','checksum']\n",
    "dataframe.to_csv(\"/Users/xiongzhaoqi/Cambridge/Project/tracesall/memcached/expt-1.csv\",index=False,sep=',',columns = columns)"
   ]
  },
  {
   "cell_type": "markdown",
   "metadata": {},
   "source": [
    "# TCPdump"
   ]
  },
  {
   "cell_type": "code",
   "execution_count": 8,
   "metadata": {},
   "outputs": [
    {
     "name": "stdout",
     "output_type": "stream",
     "text": [
      "[[ 1  1  1 ...  1  1  1]\n",
      " [ 0  0  0 ...  0  0  0]\n",
      " [ 0  0  0 ...  0  0  0]\n",
      " [98 98 98 ... 98 98 98]\n",
      " [ 0  0  0 ...  0  0  0]]\n"
     ]
    }
   ],
   "source": [
    "results = []\n",
    "all_packets = rdpcap('/Users/xiongzhaoqi/traces3/ping.pcap') \n",
    "for packet in all_packets:\n",
    "    proto = packet.proto\n",
    "    size =  len(packet)\n",
    "    checksum = packet.chksum\n",
    "    try:\n",
    "        sport = packet.sport\n",
    "        dport = packet.dport\n",
    "    except AttributeError:\n",
    "        sport = 0\n",
    "        dport = 0\n",
    "    difference = abs(sport - dport)\n",
    "    metric = [proto,sport,dport,size,difference]\n",
    "    results.append(metric)\n",
    "results = (np.array(results)).T\n",
    "print(results[0:20])"
   ]
  },
  {
   "cell_type": "code",
   "execution_count": 9,
   "metadata": {},
   "outputs": [],
   "source": [
    "dataframe = pd.DataFrame({'protocl':results[0],'src':results[1],'dst':results[2],'size':results[3],'difference':results[4]})\n",
    "columns = ['protocl','src','dst','size','difference']\n",
    "# columns = ['protocl','src','dst','size','checksum']\n",
    "dataframe.to_csv(\"/Users/xiongzhaoqi/Cambridge/Project/traces1000/ping.csv\",index=False,sep=',',columns = columns)"
   ]
  },
  {
   "cell_type": "markdown",
   "metadata": {},
   "source": [
    "# Sparkglm"
   ]
  },
  {
   "cell_type": "code",
   "execution_count": 10,
   "metadata": {},
   "outputs": [
    {
     "name": "stdout",
     "output_type": "stream",
     "text": [
      "[[    6     6     6 ...     6     6     6]\n",
      " [42830 42830  7077 ... 38237 38237 34816]\n",
      " [ 7077  7077 42830 ... 34816 34816 38237]\n",
      " [   79  1514    66 ...    87   113    66]\n",
      " [35753 35753 35753 ...  3421  3421  3421]]\n"
     ]
    }
   ],
   "source": [
    "results = []\n",
    "all_packets = rdpcap('/Users/xiongzhaoqi/traces3/sparkglm.pcap') \n",
    "for packet in all_packets:\n",
    "    proto = packet.proto\n",
    "    size =  len(packet)\n",
    "    checksum = packet.chksum\n",
    "    try:\n",
    "        sport = packet.sport\n",
    "        dport = packet.dport\n",
    "    except AttributeError:\n",
    "        sport = 0\n",
    "        dport = 0\n",
    "    difference = abs(sport - dport)\n",
    "    metric = [proto,sport,dport,size,difference]\n",
    "    results.append(metric)\n",
    "results = (np.array(results)).T\n",
    "print(results[0:20])"
   ]
  },
  {
   "cell_type": "code",
   "execution_count": 11,
   "metadata": {},
   "outputs": [],
   "source": [
    "dataframe = pd.DataFrame({'protocl':results[0],'src':results[1],'dst':results[2],'size':results[3],'difference':results[4]})\n",
    "columns = ['protocl','src','dst','size','difference']\n",
    "# columns = ['protocl','src','dst','size','checksum']\n",
    "dataframe.to_csv(\"/Users/xiongzhaoqi/Cambridge/Project/traces1000/sparkglm.csv\",index=False,sep=',',columns = columns)"
   ]
  },
  {
   "cell_type": "markdown",
   "metadata": {},
   "source": [
    "# Sparkkmeans"
   ]
  },
  {
   "cell_type": "code",
   "execution_count": 12,
   "metadata": {},
   "outputs": [
    {
     "name": "stdout",
     "output_type": "stream",
     "text": [
      "[[    6     6     6 ...     6     6     6]\n",
      " [42830 42830  7077 ... 46299 50176 50176]\n",
      " [ 7077  7077 42830 ... 50176 46299 46299]\n",
      " [   79  1514    66 ...    66 56306  8502]\n",
      " [35753 35753 35753 ...  3877  3877  3877]]\n"
     ]
    }
   ],
   "source": [
    "results = []\n",
    "all_packets = rdpcap('/Users/xiongzhaoqi/traces3/sparkkmeans.pcap') \n",
    "for packet in all_packets:\n",
    "    proto = packet.proto\n",
    "    size =  len(packet)\n",
    "    checksum = packet.chksum\n",
    "    try:\n",
    "        sport = packet.sport\n",
    "        dport = packet.dport\n",
    "    except AttributeError:\n",
    "        sport = 0\n",
    "        dport = 0\n",
    "    difference = abs(sport - dport)\n",
    "    metric = [proto,sport,dport,size,difference]\n",
    "    results.append(metric)\n",
    "results = (np.array(results)).T\n",
    "print(results[0:20])"
   ]
  },
  {
   "cell_type": "code",
   "execution_count": 13,
   "metadata": {},
   "outputs": [],
   "source": [
    "dataframe = pd.DataFrame({'protocl':results[0],'src':results[1],'dst':results[2],'size':results[3],'difference':results[4]})\n",
    "columns = ['protocl','src','dst','size']\n",
    "columns = ['protocl','src','dst','size','difference']\n",
    "dataframe.to_csv(\"/Users/xiongzhaoqi/Cambridge/Project/traces1000/sparkkmeans.csv\",index=False,sep=',',columns = columns)"
   ]
  },
  {
   "cell_type": "code",
   "execution_count": null,
   "metadata": {},
   "outputs": [],
   "source": []
  },
  {
   "cell_type": "code",
   "execution_count": null,
   "metadata": {},
   "outputs": [],
   "source": []
  }
 ],
 "metadata": {
  "kernelspec": {
   "display_name": "Python 3",
   "language": "python",
   "name": "python3"
  },
  "language_info": {
   "codemirror_mode": {
    "name": "ipython",
    "version": 3
   },
   "file_extension": ".py",
   "mimetype": "text/x-python",
   "name": "python",
   "nbconvert_exporter": "python",
   "pygments_lexer": "ipython3",
   "version": "3.7.2"
  }
 },
 "nbformat": 4,
 "nbformat_minor": 2
}
