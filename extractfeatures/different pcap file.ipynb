{
 "cells": [
  {
   "cell_type": "code",
   "execution_count": 1,
   "metadata": {},
   "outputs": [],
   "source": [
    "from scapy.all import * \n",
    "from scapy.layers.dns import DNS, DNSQR \n",
    "import numpy as np"
   ]
  },
  {
   "cell_type": "code",
   "execution_count": 2,
   "metadata": {},
   "outputs": [
    {
     "name": "stdout",
     "output_type": "stream",
     "text": [
      "###[ Ethernet ]### \n",
      "  dst       = 00:0d:3a:4e:59:a5\n",
      "  src       = 74:83:ef:6a:80:97\n",
      "  type      = 0x800\n",
      "###[ IP ]### \n",
      "     version   = 4\n",
      "     ihl       = 5\n",
      "     tos       = 0x0\n",
      "     len       = 60\n",
      "     id        = 0\n",
      "     flags     = DF\n",
      "     frag      = 0\n",
      "     ttl       = 64\n",
      "     proto     = tcp\n",
      "     chksum    = 0x26a8\n",
      "     src       = 10.0.0.10\n",
      "     dst       = 10.0.0.11\n",
      "     \\options   \\\n",
      "###[ TCP ]### \n",
      "        sport     = commplex_link\n",
      "        dport     = commplex_link\n",
      "        seq       = 814113331\n",
      "        ack       = 3502425558\n",
      "        dataofs   = 10\n",
      "        reserved  = 0\n",
      "        flags     = SA\n",
      "        window    = 28960\n",
      "        chksum    = 0x2ca2\n",
      "        urgptr    = 0\n",
      "        options   = [('MSS', 1418), ('SAckOK', ''), ('Timestamp', (750183140, 1229384956)), ('NOP', None), ('WScale', 7)]\n",
      "\n",
      "None\n"
     ]
    }
   ],
   "source": [
    "iperf = []\n",
    "iperf_packets = rdpcap('/Users/xiongzhaoqi/traces2/iperf/client.cap') \n",
    "packet = iperf_packets[1]\n",
    "print(packet.show())\n",
    "# for packet in iperf_packets:\n",
    "#     metric = [packet.proto,packet.sport,packet.dport,len(packet)]\n",
    "#     iperf.append(metric)\n",
    "# iperf = np.array(iperf)\n",
    "# print(iperf[0:20])"
   ]
  },
  {
   "cell_type": "code",
   "execution_count": 7,
   "metadata": {
    "scrolled": true
   },
   "outputs": [
    {
     "name": "stdout",
     "output_type": "stream",
     "text": [
      "###[ Ethernet ]### \n",
      "  dst       = 12:34:56:78:9a:bc\n",
      "  src       = 00:0d:3a:1e:06:c0\n",
      "  type      = 0x800\n",
      "###[ IP ]### \n",
      "     version   = 4\n",
      "     ihl       = 5\n",
      "     tos       = 0x0\n",
      "     len       = 93\n",
      "     id        = 23221\n",
      "     flags     = DF\n",
      "     frag      = 0\n",
      "     ttl       = 64\n",
      "     proto     = tcp\n",
      "     chksum    = 0xc5da\n",
      "     src       = 10.0.3.7\n",
      "     dst       = 10.0.3.5\n",
      "     \\options   \\\n",
      "###[ TCP ]### \n",
      "        sport     = 11211\n",
      "        dport     = 38094\n",
      "        seq       = 807868590\n",
      "        ack       = 3850087914\n",
      "        dataofs   = 8\n",
      "        reserved  = 0\n",
      "        flags     = PA\n",
      "        window    = 325\n",
      "        chksum    = 0x1a5b\n",
      "        urgptr    = 0\n",
      "        options   = [('NOP', None), ('NOP', None), ('Timestamp', (3496865280, 205696067))]\n",
      "###[ Raw ]### \n",
      "           load      = 'VALUE 00000000000000009733 0 2\\r\\nle\\r\\nEND\\r\\n'\n",
      "\n",
      "None\n"
     ]
    }
   ],
   "source": [
    "cache = []\n",
    "cache_packets = rdpcap('/Users/xiongzhaoqi/traces2/memcached/expt-1.pcap') \n",
    "packet = cache_packets[0]\n",
    "print(packet.show())\n",
    "# for packet in cache_packets:\n",
    "#     metric = [packet.proto,packet.sport,packet.dport,len(packet)]\n",
    "#     cache.append(metric)\n",
    "# cache = np.array(cache)\n",
    "# print(cache[0:20])\n"
   ]
  },
  {
   "cell_type": "code",
   "execution_count": 8,
   "metadata": {},
   "outputs": [
    {
     "name": "stdout",
     "output_type": "stream",
     "text": [
      "###[ Ethernet ]### \n",
      "  dst       = 00:0d:3a:1b:6f:23\n",
      "  src       = 00:42:68:64:7f:ef\n",
      "  type      = 0x800\n",
      "###[ IP ]### \n",
      "     version   = 4\n",
      "     ihl       = 5\n",
      "     tos       = 0x0\n",
      "     len       = 84\n",
      "     id        = 10114\n",
      "     flags     = DF\n",
      "     frag      = 0\n",
      "     ttl       = 64\n",
      "     proto     = icmp\n",
      "     chksum    = 0xff1e\n",
      "     src       = 10.0.0.4\n",
      "     dst       = 10.0.0.5\n",
      "     \\options   \\\n",
      "###[ ICMP ]### \n",
      "        type      = echo-request\n",
      "        code      = 0\n",
      "        chksum    = 0xb0b2\n",
      "        id        = 0x36d9\n",
      "        seq       = 0x1\n",
      "###[ Raw ]### \n",
      "           load      = '\\xf9\\x8b\\x17[\\x00\\x00\\x00\\x00:\\xb9\\x06\\x00\\x00\\x00\\x00\\x00\\x10\\x11\\x12\\x13\\x14\\x15\\x16\\x17\\x18\\x19\\x1a\\x1b\\x1c\\x1d\\x1e\\x1f !\"#$%&\\'()*+,-./01234567'\n",
      "\n",
      "None\n"
     ]
    }
   ],
   "source": [
    "ping = []\n",
    "ping_packets = rdpcap('/Users/xiongzhaoqi/traces2/ping/tcpdump.pcap') \n",
    "packet = ping_packets[0]\n",
    "print(packet.show())\n",
    "# for packet in ping_packets:\n",
    "#     metric = [packet.proto,len(packet)]\n",
    "#     ping.append(metric)\n",
    "# ping = np.array(ping)\n",
    "# print(ping[0:20])"
   ]
  },
  {
   "cell_type": "code",
   "execution_count": 12,
   "metadata": {},
   "outputs": [
    {
     "name": "stdout",
     "output_type": "stream",
     "text": [
      "[[    6 42830  7077    79]\n",
      " [    6 42830  7077  1514]\n",
      " [    6  7077 42830    66]\n",
      " [    6 42830  7077    79]\n",
      " [    6 42830  7077  1514]\n",
      " [    6  7077 42830    66]\n",
      " [    6 56808    22    74]\n",
      " [    6    22 56808    74]\n",
      " [    6 56808    22    66]\n",
      " [    6 56808    22   107]\n",
      " [    6    22 56808    66]\n",
      " [    6    22 56808   107]\n",
      " [    6 56808    22    66]\n",
      " [    6    22 56808  1042]\n",
      " [    6 56808    22  1402]\n",
      " [    6    22 56808    66]\n",
      " [    6 56808    22   114]\n",
      " [    6    22 56808    66]\n",
      " [    6    22 56808   430]\n",
      " [    6 56808    22    82]]\n"
     ]
    }
   ],
   "source": [
    "sparkglm = []\n",
    "sparkglm_packets = rdpcap('/Users/xiongzhaoqi/traces2/sparkglm/slave1.cap') \n",
    "for packet in sparkglm_packets:\n",
    "    metric = [packet.proto,packet.sport,packet.dport,len(packet)]\n",
    "    sparkglm.append(metric)\n",
    "sparkglm = np.array(sparkglm)\n",
    "print(sparkglm[0:20])\n",
    "\n"
   ]
  },
  {
   "cell_type": "code",
   "execution_count": 15,
   "metadata": {},
   "outputs": [
    {
     "name": "stdout",
     "output_type": "stream",
     "text": [
      "[[    6 42830  7077    79]\n",
      " [    6 42830  7077  1514]\n",
      " [    6  7077 42830    66]\n",
      " [    6 42830  7077    79]\n",
      " [    6 42830  7077  1514]\n",
      " [    6  7077 42830    66]\n",
      " [    6 42010    22    74]\n",
      " [    6    22 42010    74]\n",
      " [    6 42010    22    66]\n",
      " [    6 42010    22   107]\n",
      " [    6    22 42010    66]\n",
      " [    6    22 42010   107]\n",
      " [    6 42010    22    66]\n",
      " [    6 42010    22  1402]\n",
      " [    6    22 42010  1042]\n",
      " [    6    22 42010    66]\n",
      " [    6 42010    22   114]\n",
      " [    6    22 42010    66]\n",
      " [    6    22 42010   430]\n",
      " [    6 42010    22    82]]\n"
     ]
    }
   ],
   "source": [
    "sparkkmeans = []\n",
    "sparkkmeans_packets = rdpcap('/Users/xiongzhaoqi/traces2/sparkkmeans/master.pcap') \n",
    "for packet in sparkkmeans_packets:\n",
    "    metric = [packet.proto,packet.sport,packet.dport,len(packet)]\n",
    "    sparkkmeans.append(metric)\n",
    "sparkkmeans = np.array(sparkkmeans)\n",
    "print(sparkkmeans[0:20])\n",
    "\n"
   ]
  },
  {
   "cell_type": "code",
   "execution_count": null,
   "metadata": {},
   "outputs": [],
   "source": []
  }
 ],
 "metadata": {
  "kernelspec": {
   "display_name": "Python 3",
   "language": "python",
   "name": "python3"
  },
  "language_info": {
   "codemirror_mode": {
    "name": "ipython",
    "version": 3
   },
   "file_extension": ".py",
   "mimetype": "text/x-python",
   "name": "python",
   "nbconvert_exporter": "python",
   "pygments_lexer": "ipython3",
   "version": "3.7.2"
  }
 },
 "nbformat": 4,
 "nbformat_minor": 2
}
